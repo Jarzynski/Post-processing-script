{
 "cells": [
  {
   "cell_type": "code",
   "execution_count": 6,
   "metadata": {},
   "outputs": [],
   "source": [
    "import MDAnalysis as mda\n",
    "import numpy as np\n",
    "import math\n",
    "\n",
    "def Dipole(Ro, Rh1, Rh2):\n",
    "    oZ = np.array([0, 0, 1]) \n",
    "    Ro_h1 = Rh1-Ro\n",
    "    Ro_h2 = Rh2-Ro\n",
    "    dipole = Ro_h1+Ro_h2\n",
    "    r_dipole = np.sqrt(dipole[0][0]**2+dipole[0][1]**2+dipole[0][2]**2)\n",
    "    theta = np.arccos(np.dot(oZ, dipole[0])/r_dipole)\n",
    "    return np.rad2deg(theta)\n",
    "u = mda.Universe('NaE4.lammpsdump')\n",
    "orient = []\n",
    "file_out = open(\"E:/mica/Na/jw/polarity.txt\",\"a\")\n",
    "for ts in u.trajectory:\n",
    "#    layer = u.select_atoms('point 9.0 9.0 2.0 18.33 and type 9')\n",
    "    for i in np.arange(4705,9886,3):\n",
    "#        i = atom.index\n",
    "        o = u.select_atoms('index {}'.format(i))\n",
    "        h1 = u.select_atoms('index {}'.format(i+1))\n",
    "        h2 = u.select_atoms('index {}'.format(i+2))\n",
    "        ro = o.positions\n",
    "        rh1 = h1.positions\n",
    "        rh2 = h2.positions\n",
    "        if ro[0][2] > 22 and ro[0][2] < 25.2:\n",
    "            a = math.cos(math.radians(Dipole(ro, rh1, rh2)))\n",
    "            orient.append(a)\n",
    "polarity = sum(orient)/len(orient)\n",
    "\n",
    "file_out.write(str(polarity))\n",
    "file_out.close()"
   ]
  }
 ],
 "metadata": {
  "kernelspec": {
   "display_name": "Python 3.10.6 64-bit",
   "language": "python",
   "name": "python3"
  },
  "language_info": {
   "codemirror_mode": {
    "name": "ipython",
    "version": 3
   },
   "file_extension": ".py",
   "mimetype": "text/x-python",
   "name": "python",
   "nbconvert_exporter": "python",
   "pygments_lexer": "ipython3",
   "version": "3.10.6"
  },
  "orig_nbformat": 4,
  "vscode": {
   "interpreter": {
    "hash": "865d8b2eb28e274047ba64063dfb6a2aabf0dfec4905d304d7a76618dae6fdd4"
   }
  }
 },
 "nbformat": 4,
 "nbformat_minor": 2
}
